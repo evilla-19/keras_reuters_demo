{
  "nbformat": 4,
  "nbformat_minor": 0,
  "metadata": {
    "colab": {
      "name": "keras_reuters.ipynb",
      "version": "0.3.2",
      "provenance": [],
      "include_colab_link": true
    },
    "kernelspec": {
      "name": "python3",
      "display_name": "Python 3"
    },
    "accelerator": "GPU"
  },
  "cells": [
    {
      "cell_type": "markdown",
      "metadata": {
        "id": "view-in-github",
        "colab_type": "text"
      },
      "source": [
        "<a href=\"https://colab.research.google.com/github/evilla-19/keras_reuters_demo/blob/master/keras_reuters.ipynb\" target=\"_parent\"><img src=\"https://colab.research.google.com/assets/colab-badge.svg\" alt=\"Open In Colab\"/></a>"
      ]
    },
    {
      "metadata": {
        "id": "fTW3k-u_Yu0r",
        "colab_type": "code",
        "outputId": "dab9e632-0725-418e-a5a5-e9c77a775dde",
        "colab": {
          "base_uri": "https://localhost:8080/",
          "height": 34
        }
      },
      "cell_type": "code",
      "source": [
        "import keras\n",
        "from keras.datasets import reuters\n",
        "from numpy import asarray"
      ],
      "execution_count": 0,
      "outputs": [
        {
          "output_type": "stream",
          "text": [
            "Using TensorFlow backend.\n"
          ],
          "name": "stderr"
        }
      ]
    },
    {
      "metadata": {
        "id": "qtKuwMTLZMvl",
        "colab_type": "code",
        "outputId": "b4bbb0f0-830c-4ff8-dca5-144c6dcdf85a",
        "colab": {
          "base_uri": "https://localhost:8080/",
          "height": 85
        }
      },
      "cell_type": "code",
      "source": [
        "(x_train, y_train), (x_test, y_test) = reuters.load_data(num_words=None, test_split=0.2)\n",
        "word_index = reuters.get_word_index(path=\"reuters_word_index.json\")"
      ],
      "execution_count": 0,
      "outputs": [
        {
          "output_type": "stream",
          "text": [
            "Downloading data from https://s3.amazonaws.com/text-datasets/reuters.npz\n",
            "2113536/2110848 [==============================] - 0s 0us/step\n",
            "Downloading data from https://s3.amazonaws.com/text-datasets/reuters_word_index.json\n",
            "557056/550378 [==============================] - 0s 1us/step\n"
          ],
          "name": "stdout"
        }
      ]
    },
    {
      "metadata": {
        "id": "qPhIHMK8ZM1v",
        "colab_type": "code",
        "outputId": "51cec538-3432-47b0-fbd9-9d63d7212a2b",
        "colab": {
          "base_uri": "https://localhost:8080/",
          "height": 51
        }
      },
      "cell_type": "code",
      "source": [
        "print('# of Training Samples: {}'.format(len(x_train)))\n",
        "print('# of Test Samples: {}'.format(len(x_test)))"
      ],
      "execution_count": 0,
      "outputs": [
        {
          "output_type": "stream",
          "text": [
            "# of Training Samples: 8982\n",
            "# of Test Samples: 2246\n"
          ],
          "name": "stdout"
        }
      ]
    },
    {
      "metadata": {
        "id": "YAvWaaVvZM4K",
        "colab_type": "code",
        "outputId": "83366db2-7090-42cd-e8e7-66b836782bf0",
        "colab": {
          "base_uri": "https://localhost:8080/",
          "height": 34
        }
      },
      "cell_type": "code",
      "source": [
        "num_classes = max(y_train) + 1\n",
        "print('# of Classes: {}'.format(num_classes))"
      ],
      "execution_count": 0,
      "outputs": [
        {
          "output_type": "stream",
          "text": [
            "# of Classes: 46\n"
          ],
          "name": "stdout"
        }
      ]
    },
    {
      "metadata": {
        "id": "IrtJnNdlRpfc",
        "colab_type": "code",
        "outputId": "d95b5e5b-8674-48ff-f457-c40cde767b55",
        "colab": {
          "base_uri": "https://localhost:8080/",
          "height": 51
        }
      },
      "cell_type": "code",
      "source": [
        "print('Shape of x_train is : {}'.format(x_train.shape))\n",
        "print('Shape of x_test is : {}'.format(x_test.shape))"
      ],
      "execution_count": 0,
      "outputs": [
        {
          "output_type": "stream",
          "text": [
            "Shape of x_train is : (8982,)\n",
            "Shape of x_test is : (2246,)\n"
          ],
          "name": "stdout"
        }
      ]
    },
    {
      "metadata": {
        "id": "AbbAzwO7RyVY",
        "colab_type": "code",
        "outputId": "f80639ed-0610-4052-f7e8-8c0cf6b77350",
        "colab": {
          "base_uri": "https://localhost:8080/",
          "height": 54
        }
      },
      "cell_type": "code",
      "source": [
        "print(x_train[0])"
      ],
      "execution_count": 0,
      "outputs": [
        {
          "output_type": "stream",
          "text": [
            "[1, 27595, 28842, 8, 43, 10, 447, 5, 25, 207, 270, 5, 3095, 111, 16, 369, 186, 90, 67, 7, 89, 5, 19, 102, 6, 19, 124, 15, 90, 67, 84, 22, 482, 26, 7, 48, 4, 49, 8, 864, 39, 209, 154, 6, 151, 6, 83, 11, 15, 22, 155, 11, 15, 7, 48, 9, 4579, 1005, 504, 6, 258, 6, 272, 11, 15, 22, 134, 44, 11, 15, 16, 8, 197, 1245, 90, 67, 52, 29, 209, 30, 32, 132, 6, 109, 15, 17, 12]\n"
          ],
          "name": "stdout"
        }
      ]
    },
    {
      "metadata": {
        "id": "80CBm1xXZM6v",
        "colab_type": "code",
        "colab": {}
      },
      "cell_type": "code",
      "source": [
        "index_to_word = {}\n",
        "for key, value in word_index.items():\n",
        "    index_to_word[value] = key"
      ],
      "execution_count": 0,
      "outputs": []
    },
    {
      "metadata": {
        "id": "j1edSTFAZM83",
        "colab_type": "code",
        "outputId": "138d8113-9736-4a02-e027-306e32aeed6a",
        "colab": {
          "base_uri": "https://localhost:8080/",
          "height": 88
        }
      },
      "cell_type": "code",
      "source": [
        "print(' '.join([index_to_word[x] for x in x_train[1]]))\n",
        "print(x_train[1])\n",
        "print(y_train[1])"
      ],
      "execution_count": 0,
      "outputs": [
        {
          "output_type": "stream",
          "text": [
            "the termination payment airport takes 6 visibility geological 3 6 602 begin up said fully bank expects commodity total is giant a recreation this takes leroy series termination payment airport mln a for capital 1 pre 50 american east said in council takes leroy recommend's france a but u any 4 s 1st losses pct dlrs\n",
            "[1, 3267, 699, 3434, 2295, 56, 16784, 7511, 9, 56, 3906, 1073, 81, 5, 1198, 57, 366, 737, 132, 20, 4093, 7, 19261, 49, 2295, 13415, 1037, 3267, 699, 3434, 8, 7, 10, 241, 16, 855, 129, 231, 783, 5, 4, 587, 2295, 13415, 30625, 775, 7, 48, 34, 191, 44, 35, 1795, 505, 17, 12]\n",
            "4\n"
          ],
          "name": "stdout"
        }
      ]
    },
    {
      "metadata": {
        "id": "aaMOppzvZNBV",
        "colab_type": "code",
        "outputId": "2994994f-9952-4ff1-89a6-55588920e564",
        "colab": {
          "base_uri": "https://localhost:8080/",
          "height": 102
        }
      },
      "cell_type": "code",
      "source": [
        "from keras.preprocessing.text import Tokenizer\n",
        "\n",
        "max_words = 10000\n",
        "\n",
        "tokenizer = Tokenizer(num_words=max_words)\n",
        "x_train = tokenizer.sequences_to_matrix(x_train, mode='binary')\n",
        "x_test = tokenizer.sequences_to_matrix(x_test, mode='binary')\n",
        "\n",
        "y_train = keras.utils.to_categorical(y_train, num_classes)\n",
        "y_test = keras.utils.to_categorical(y_test, num_classes)\n",
        "print(x_train[0])\n",
        "print(len(x_train[0]))\n",
        "\n",
        "print(y_train[0])\n",
        "print(len(y_train[0]))"
      ],
      "execution_count": 0,
      "outputs": [
        {
          "output_type": "stream",
          "text": [
            "[0. 1. 0. ... 0. 0. 0.]\n",
            "10000\n",
            "[0. 0. 0. 1. 0. 0. 0. 0. 0. 0. 0. 0. 0. 0. 0. 0. 0. 0. 0. 0. 0. 0. 0. 0.\n",
            " 0. 0. 0. 0. 0. 0. 0. 0. 0. 0. 0. 0. 0. 0. 0. 0. 0. 0. 0. 0. 0. 0.]\n",
            "46\n"
          ],
          "name": "stdout"
        }
      ]
    },
    {
      "metadata": {
        "id": "jkDooYw8ZNAE",
        "colab_type": "code",
        "outputId": "9739dcc1-e202-4451-dd41-305acb752e86",
        "colab": {
          "base_uri": "https://localhost:8080/",
          "height": 462
        }
      },
      "cell_type": "code",
      "source": [
        "from keras.models import Sequential\n",
        "from keras.layers import Dense, Dropout, Activation\n",
        "\n",
        "model = Sequential()\n",
        "model.add(Dense(512, input_shape=(max_words,)))\n",
        "model.add(Activation('relu'))\n",
        "model.add(Dropout(0.5))\n",
        "model.add(Dense(num_classes))\n",
        "model.add(Activation('softmax'))\n",
        "model.compile(loss='categorical_crossentropy', optimizer='adam', metrics=['accuracy'])\n",
        "print(model.metrics_names)\n",
        "print(model.summary())"
      ],
      "execution_count": 0,
      "outputs": [
        {
          "output_type": "stream",
          "text": [
            "WARNING:tensorflow:From /usr/local/lib/python3.6/dist-packages/tensorflow/python/framework/op_def_library.py:263: colocate_with (from tensorflow.python.framework.ops) is deprecated and will be removed in a future version.\n",
            "Instructions for updating:\n",
            "Colocations handled automatically by placer.\n",
            "WARNING:tensorflow:From /usr/local/lib/python3.6/dist-packages/keras/backend/tensorflow_backend.py:3445: calling dropout (from tensorflow.python.ops.nn_ops) with keep_prob is deprecated and will be removed in a future version.\n",
            "Instructions for updating:\n",
            "Please use `rate` instead of `keep_prob`. Rate should be set to `rate = 1 - keep_prob`.\n",
            "['loss', 'acc']\n",
            "_________________________________________________________________\n",
            "Layer (type)                 Output Shape              Param #   \n",
            "=================================================================\n",
            "dense_1 (Dense)              (None, 512)               5120512   \n",
            "_________________________________________________________________\n",
            "activation_1 (Activation)    (None, 512)               0         \n",
            "_________________________________________________________________\n",
            "dropout_1 (Dropout)          (None, 512)               0         \n",
            "_________________________________________________________________\n",
            "dense_2 (Dense)              (None, 46)                23598     \n",
            "_________________________________________________________________\n",
            "activation_2 (Activation)    (None, 46)                0         \n",
            "=================================================================\n",
            "Total params: 5,144,110\n",
            "Trainable params: 5,144,110\n",
            "Non-trainable params: 0\n",
            "_________________________________________________________________\n",
            "None\n"
          ],
          "name": "stdout"
        }
      ]
    },
    {
      "metadata": {
        "id": "dJb19v0XSB4x",
        "colab_type": "code",
        "colab": {}
      },
      "cell_type": "code",
      "source": [
        "from keras.utils import plot_model\n",
        "plot_model(model, to_file='model_plot.png', show_shapes=True, show_layer_names=True)"
      ],
      "execution_count": 0,
      "outputs": []
    },
    {
      "metadata": {
        "id": "NorSvjC6ZoX9",
        "colab_type": "code",
        "outputId": "bdd2563a-e11e-490e-a053-e75bbefc2fbc",
        "colab": {
          "base_uri": "https://localhost:8080/",
          "height": 445
        }
      },
      "cell_type": "code",
      "source": [
        "batch_size = 32\n",
        "epochs = 10\n",
        "\n",
        "history = model.fit(x_train, y_train, batch_size=batch_size, epochs=epochs, verbose=1, validation_split=0.2)\n",
        "score = model.evaluate(x_test, y_test, batch_size=batch_size, verbose=1)\n",
        "print('Test loss:', score[0])\n",
        "print('Test accuracy:', score[1])"
      ],
      "execution_count": 0,
      "outputs": [
        {
          "output_type": "stream",
          "text": [
            "Train on 7185 samples, validate on 1797 samples\n",
            "Epoch 1/10\n",
            "7185/7185 [==============================] - 3s 364us/step - loss: 0.2204 - acc: 0.9513 - val_loss: 0.9048 - val_acc: 0.8114\n",
            "Epoch 2/10\n",
            "7185/7185 [==============================] - 3s 368us/step - loss: 0.1815 - acc: 0.9562 - val_loss: 0.9481 - val_acc: 0.8024\n",
            "Epoch 3/10\n",
            "7185/7185 [==============================] - 3s 372us/step - loss: 0.1801 - acc: 0.9585 - val_loss: 0.9560 - val_acc: 0.8086\n",
            "Epoch 4/10\n",
            "7185/7185 [==============================] - 3s 371us/step - loss: 0.1739 - acc: 0.9596 - val_loss: 1.0053 - val_acc: 0.8047\n",
            "Epoch 5/10\n",
            "7185/7185 [==============================] - 3s 368us/step - loss: 0.1713 - acc: 0.9582 - val_loss: 0.9871 - val_acc: 0.8086\n",
            "Epoch 6/10\n",
            "7185/7185 [==============================] - 3s 369us/step - loss: 0.1648 - acc: 0.9610 - val_loss: 1.0104 - val_acc: 0.8141\n",
            "Epoch 7/10\n",
            "7185/7185 [==============================] - 3s 371us/step - loss: 0.1570 - acc: 0.9617 - val_loss: 1.0285 - val_acc: 0.8114\n",
            "Epoch 8/10\n",
            "7185/7185 [==============================] - 3s 370us/step - loss: 0.1539 - acc: 0.9626 - val_loss: 1.0418 - val_acc: 0.8063\n",
            "Epoch 9/10\n",
            "7185/7185 [==============================] - 3s 376us/step - loss: 0.1698 - acc: 0.9630 - val_loss: 1.0930 - val_acc: 0.8075\n",
            "Epoch 10/10\n",
            "7185/7185 [==============================] - 3s 373us/step - loss: 0.1657 - acc: 0.9634 - val_loss: 1.1130 - val_acc: 0.8075\n",
            "2246/2246 [==============================] - 0s 102us/step\n",
            "Test loss: 1.1185149770704423\n",
            "Test accuracy: 0.804986642920748\n"
          ],
          "name": "stdout"
        }
      ]
    },
    {
      "metadata": {
        "id": "hPUQhXlAZwCs",
        "colab_type": "code",
        "colab": {}
      },
      "cell_type": "code",
      "source": [
        "from keras.preprocessing.text import Tokenizer\n",
        "from keras.preprocessing.sequence import pad_sequences\n",
        "\n",
        "# define 5 documents\n",
        "docs = ['Prenatal alcohol exposure (PAE) is an insidious yet preventable cause of developmental disability. The prenatal stage is a critical period for brain development with the concurrence of high vulnerability to the acute and prolonged effects of PAE. There is substantial evidence from both human observations and laboratory experiments that PAE is a common risk factor that predisposes to an array of postnatal mental disorders, including emotional, cognitive, and motor deficits. Although it is well accepted that PAE causes substantial morbidity, available treatments are limited. One reason is the lack of sufficient understanding about the neuroalterations induced by PAE, and how these changes contribute to PAE-induced mental disorders. Among a number of brain structures that have been explored extensively in PAE, the striatum has attracted great attention in the last 20 years in the field of PAE neurobiology. Interestingly, in animal models, the striatum has been considered as a pivotal switch of brain dysfunction induced by PAE, such as addiction, anxiety, depression, and neurodegeneration. In this review, we focus on recent advances in the understanding of morphological and functional changes in brain regions related to alterations after PAE, in particular the striatum. Because this region is central for behavior, emotion and cognition, there is an urgent need for more studies to uncover the PAE-induced alterations at the circuit, neuronal, synaptic and molecular levels, which will not only improve our understanding of the neuroplasticity induced by PAE, but also provide novel biological targets to treat PAE-related mental disorders with translational significance.',\n",
        "       'Mesenchymal stem cell-derived exosome is a safe and effective delivery platform with a potential capacity to exert immunomodulation effect and peripheral tolerance toward auto-reactive cells via bearing regulatory and tolerogenic molecules. Inflammation and neurodegeneration are the clinical manifestation of multiple sclerosis (MS). In order to fight against MS, the efficient choices are the ones, which prevent inflammation and induce remyelination. In this regard, the previously reported LJM-3064 aptamer which showed considerable affinity toward myelin and demonstrated remyelination induction was employed as both targeting ligand and therapeutic agent. Thus, in the current study, the carboxylic acid-functionalized LJM-3064 aptamer was covalently conjugated to the amine groups on the exosome surface through EDC/NHS chemistry. The obtained results showed that the aptamer-exosome bioconjugate could promote the proliferation of oligodendroglia cell line (OLN93) in vitro. Moreover, in vivo administration of the prepared aptamer-exosome bioconjugate in female C57BL/6 mice as a prophylactic measure produced a robust suppression of inflammatory response as well as lowered demyelination lesion region in CNS, resulting in reduced in vivo severity of the disease. The prepared platform employing exosome-based nanomedicine as a novel approach for managing MS would hopefully pave the way to introduce a versatile approach toward an effective clinical reality.',\n",
        "       'In recent decades, humans\\' exposure to metals have increased due to industrialization and socioeconomic trends have caused increased high fat diet (HFD) consumption. Concurrently, metals and HFD are risk factors for health, and in particular, the cognitive impairment. The aim of this study was to evaluate the effect of metals and HFD treatment on neuropathological changes in young mice brain, and compare with untreated young mice (8-11 weeks = 2 - 3 months) and aged mice (12 months). Mice were given 300 ppm of Aluminum (Al), Copper (Cu), Lead (Pb) and Cadmium (Cd) in drinking water and HFD feed (40% of the feed weight was animal fat) for 42 days. Metals+HFD treated mice were subjected to behavior tests, such as, Morris water maze, elevated plus maze, fear condition and contextual memory to evaluate memory levels. Spatial memory (p < 0.01), contextual memory (p < 0.01) and fear memory (p < 0.05) were significantly impaired in metals+HFD group compared to young mice. The extent of neurodegeneration with metals+HFD co-exposure was considerably high in hippocampus (p < 0.01) and cortex (p < 0.01), compared to aged mice brain and untreated young mice. Increased oxidative stress was recorded in the cortex, hippocampus and amygdala of metals+HFD group compared to the young (p < 0.001) and aged group (p < 0.05). The acetylcholine concentration decreased in cortex, hippocampus and amygdala of metals+HFD group, explaining the cholinergic deficits that caused cognitive impairment. Among the studied metals, Al was found to be highly accumulated in cortex (p <0.01), hippocampus (p < 0.01) and amygdala (p < 0.01); followed by Pb, Cu and Cd. Hippocampus showed greater accumulation of metals than the cortex and amygdala. This data provided the novel evidences that combined administration of metals and HFD enhanced aging process, caused memory impairment, cholinergic hypofunction, elevated oxidative stress and neurodegeneration in young mice.',\n",
        "       'The cytotoxicity of dopamine on cultured cells of neural origin has been used as a tool to explore the mechanisms of dopaminergic neurodegeneration in Parkinson\\'s disease. In the current study, we have shown that dopamine induces a dose-dependent (10-40 μM) and time-dependent (up to 96 h) loss of cell viability associated with mitochondrial dysfunction and increased intra-cellular accumulation of α-synuclein in cultured SH-SY5Y cells. Dopamine-induced mitochondrial dysfunction and the loss of cell viability under our experimental conditions could be prevented by cyclosporine, a blocker of mitochondrial permeability transition pore, as well as the antioxidant N-acetylcysteine. Interestingly, the dopamine effects on cell viability and mitochondrial functions were significantly prevented by knocking down α-synuclein expression by specific siRNA. Our results suggest that dopamine cytotoxicity is mediated by α-synuclein acting on the mitochondria and impairing its bioenergetic functions.',\n",
        "       'The neurodegeneration and neurobehavioral consequences of alcohol are serious and offering therapeutic approaches for management of these types of neurodegeneration is one of the main concerns of researchers in this manner. Alcohol-stimulated oxidative stress, apoptosis and inflammation, with modulation of involved signaling pathway in neuroprotection, was reported previously. Neuroprotective strategy for management of alcohol induced neurodegeneration through a new generation neuroprotective agent and based on modulation of some neuroprotective signaling pathway such as CREB/BDNF and Akt/GSK has always been superior to any other therapeutic interventions. Therefore, the introduction and development of potential new neuroprotective properties and clarification of their effects on major cell signaling such as CREB/BDNF and Akt/GSK is necessitated. During recent years, using new neuroprotective compounds with therapeutic probability for treatment of alcohol induced neuro-biochemical and neuro-behavioral malicious effects have been amazingly increased. Many previous studies have reported the neuroprotective roles of crocin (major active component of saffron) in multiple neurodegenerative events and diseases in animal model. But the role of crocin neuroprotective effects against alcohol induced neurodegeneration and neurobehavioral sequels and also role of CREB/BDNF and Akt/GSK in this manner remain unclear. Hence we hypothesized that by using crocin in alcohol dependent subject it would provide neuroprotection against alcohol induced neurodegeneration and neurobehavioral and probably can manage sequels of alcohol abuses. Also we hypothesized that crocin, via intonation of CREB/BDNF and Akt/GSK signaling pathway, can inhibit alcohol induced neurodegeneration. In this article, we tried to discuss our hypothesis regarding the possible role of crocin, as a potent neuroprotective agent, and also role of Akt/GSK and CREB/BDNF signaling pathway in treatment of alcohol induced neurodegeneration and neurobehavioral through its anti-inflammatory,anti-apoptotic, anti-oxidative stress and cognitive enhancer.',\n",
        "       'Aberrant translational repression is a feature of multiple neurodegenerative diseases. The association between disease-linked proteins and stress granules further implicates impaired stress responses in neurodegeneration. However, our knowledge of the proteins that evade translational repression is incomplete. It is also unclear whether disease-linked proteins influence the proteome under conditions of translational repression. To address these questions, a quantitative proteomics approach was used to identify proteins that evade stress-induced translational repression in arsenite-treated cells expressing either WT or ALS-linked mutant FUS. This study revealed hundreds of proteins that are actively synthesized during stress-induced translational repression, irrespective of FUS genotype. In addition to proteins involved in RNA- and protein-processing, proteins associated with neurodegenerative diseases such as ALS were also actively synthesized during stress. Protein synthesis under stress was largely unperturbed by mutant FUS, although several proteins were found to be differentially expressed between mutant and control cells. One protein in particular, COPBI, was downregulated in mutant FUS-expressing cells under stress. COPBI is the beta subunit of the coat protein I (COPI), which is involved in Golgi to endoplasmic reticulum (ER) retrograde transport. Further investigation revealed reduced levels of other COPI subunit proteins and defects in COPBI-related processes in cells expressing mutant FUS. Even in the absence of stress, COPBI localization was altered in primary and human stem cell-derived neurons expressing ALS-linked FUS variants. Our results suggest that Golgi to ER retrograde transport may be important under conditions of stress and is perturbed upon the expression of disease-linked proteins such as FUS.',\n",
        "       'The formation of protein aggregates is linked to several diseases collectively called proteinopathies. The mechanisms and the molecular players that control the turnover of protein aggregates are not well defined. We recently showed that TRIM16 acts as a key regulatory protein to control the biogenesis and degradation of protein aggregates. We show that TRIM16 interacts with, enhances K63-linked ubiquitination of, and stabilizes NFE2L2/NRF2 leading to its activation. The activated NFE2L2 upregulates the SQSTM1/p62 and ubiquitin pathway proteins, which interact with and ubiquitinate the misfolded proteins resulting in protein aggregate formation. TRIM16 is physically present around the protein aggregates and acts as a scaffold protein to recruit SQSTM1 and macroautophagy/autophagy initiation proteins for sequestration of the protein aggregates within autophagosomes, leading to their degradation. Hence, TRIM16 utilizes a two-pronged approach to safely dispose of the stress-induced misfolded proteins and protein aggregates, and protect cells from oxidative and proteotoxic stresses. This study could provide a framework for understanding the mechanisms of protein aggregate formation in neurodegeneration. The enhancement of TRIM16 activity could be a beneficial therapeutic approach in proteinopathies. On the flip side, cancer cells appear to hijack this machinery for their survival under stress conditions; hence, depleting TRIM16 could be a beneficial therapeutic strategy for treating cancer.',\n",
        "       'The mitochondrial protein mitoNEET is a type of iron-sulfur protein localized to the outer membrane of mitochondria and is involved in a variety of human pathologies including cystic fibrosis, diabetes, muscle atrophy, and neurodegeneration. In the current study, we found that isoliquiritigenin (ISL), one of the components of the root of Glycyrrhiza glabra L., could decrease the expression of mitoNEET in A375 melanoma cells. We also demonstrated that mitoNEET could regulate the content of reactive oxygen species (ROS), by showing that the ISL-mediated increase in the cellular ROS content could be mitigated by the mitoNEET overexpression. We also confirmed the important role of ROS in ISL-treated A375 cells. The increased apoptosis rate and the decreased mitochondrial membrane potential were mitigated by the overexpression of mitoNEET in A375 cells. These findings indicated that ISL could decrease the expression of mitoNEET, which regulated ROS content and subsequently induced mitochondrial dysfunction and apoptosis in A375 cells. Our findings also highlight mitoNEET as a promising mitochondrial target for cancer therapy.',\n",
        "       'Prenatal stress (PS) has long-term sequelae for the morphological and functional status of the central nervous system of the progeny. A PS-induced proinflammatory status of the organism may result in an impairment of both hippocampal synaptic plasticity and hippocampus-dependent memory formation in adults. We addressed here the question of how PS-induced alterations in the immune response in young and old mice may contribute to changes in hippocampal function in aging. Immune stimulation (via LPS injection) significantly affected the ability of the hippocampal CA3-CA1 synapse of PS mice to undergo long-term potentiation (LTP). Elevated corticosterone level in the blood of aged PS mice that is known to influence LTP magnitude indicates a chronic activation of the HPA axis due to the in utero stress exposure. We investigated the contribution of adrenergic receptors to the modulation of hippocampal synaptic plasticity of aged mice and found that impaired LTP in the PS-LPS group was indeed rescued by application of isoproterenol (a nonspecific noradrenergic agonist). Further exploration of the mechanisms of the observed phenomena will add to our understanding of the interaction between PS and proinflammatory immune activation and its contribution to the functional and structural integrity of the aging brain.',\n",
        "       'In multiple sclerosis (MS), experimental and ex vivo studies indicate that pathologic intra- and extracellular sodium accumulation may play a pivotal role in inflammatory as well as neurodegenerative processes. Yet, in vivo assessment of sodium in the microenvironment is hard to achieve. Here, sodium magnetic resonance imaging (23NaMRI) with its non-invasive properties offers a unique opportunity to further elucidate the effects of sodium disequilibrium in MS pathology in vivo in addition to regular proton based MRI. However, unfavorable physical properties and low in vivo concentrations of sodium ions resulting in low signal-to-noise-ratio (SNR) as well as low spatial resolution resulting in partial volume effects limited the application of 23NaMRI. With the recent advent of high-field MRI scanners and more sophisticated sodium MRI acquisition techniques enabling better resolution and higher SNR, 23NaMRI revived. These studies revealed pathologic total sodium concentrations in MS brains now even allowing for the (partial) differentiation of intra- and extracellular sodium accumulation. Within this review we (1) demonstrate the physical basis and imaging techniques of 23NaMRI and (2) analyze the present and future clinical application of 23NaMRI focusing on the field of MS thus highlighting its potential as biomarker for neuroinflammation and -degeneration.',\n",
        "       'APOE4 is the greatest genetic risk factor for late-onset Alzheimer\\'s disease (AD), increasing the risk of developing the disease by 3-fold in the 14% of the population that are carriers. Despite 25 years of research, the exact mechanisms underlying how APOE4 contributes to AD pathogenesis remain incompletely defined. APOE in the brain is primarily expressed by astrocytes and microglia, cell types that are now widely appreciated to play key roles in the pathogenesis of AD; thus, a picture is emerging wherein APOE4 disrupts normal glial cell biology, intersecting with changes that occur during normal aging to ultimately cause neurodegeneration and cognitive dysfunction. This review article will summarize how APOE4 alters specific pathways in astrocytes and microglia in the context of AD and the aging brain. APOE itself, as a secreted lipoprotein without enzymatic activity, may prove challenging to directly target therapeutically in the classical sense. Therefore, a deeper understanding of the underlying pathways responsible for APOE4 toxicity is needed so that more tractable pathways and drug targets can be identified to reduce APOE4-mediated disease risk.',\n",
        "       'Oxidative damage in neurons including glutamate excitotoxicity has been linked to increasing numbers of neuropathological conditions. Under these conditions, cells trigger several different cellular responses such as autophagy, apoptosis, necrosis and senescence. However, the connection between these responses is not well understood. In this study, we found that the 60-kDa BECN1 was specifically degraded to a 40-kDa fragment in hippocampal HT22 cells treated with 5 mM glutamate. Increased BECN1 cleavage was specifically associated with a decrease in cell viability under oxidative stress. Interestingly, this BECN1 cleavage was specifically inhibited by a calpain inhibitor ALLN but was not affected by other protease inhibitors. Also, the BECN1 cleavage was not detected in calpain-4-deficient cell lines. Furthermore, calpain cleaved BECN1 at a specific site between the coiled-coil domain and Bcl2 homology 3 domain, which is associated with the anti-apoptotic protein Bcl-2. Moreover, some cellular senescence markers, including β-galactosidase, p21, p27Kip1, p53 and p16INK4A, increased proportionally to those of BECN1 cleaved fragments. These results suggest that calpain-mediated BECN1 cleavage under oxidative conditions is specifically associated with cell death induced by cellular senescence.',\n",
        "       'Lysosomal cysteine cathepsins are a family of proteases that are involved in a myriad of cellular processes from proteolytic degradation in the lysosome to bone resorption. These proteins mature following the cleavage of a pro-domain in the lysosome to become either exo- or endo-peptidases. The cathepsins B, C, L, S and Z have been implicated in NLRP3 inflammasome activation following their activation with ATP, monosodium urate, silica crystals, or bacterial components, among others. These five cathepsins have both compensatory and independent functions in NLRP3 inflammasome activation. There is much evidence in the literature to support the release of cathepsin B following lysosomal membrane degradation which leads to NLRP3 inflammasome activation. This is likely due to a hitherto unidentified role of this protein in the cytoplasm, although other interactions with autophagy proteins and within lysosomes have been proposed. Cathepsin C is involved in the processing of neutrophil IL-1β through processing of upstream proteases. Cathepsin Z is non-redundantly required for NLRP3 inflammasome activation following nigericin, ATP and monosodium urate activation. Lysosomal cysteine cathepsins are members of a diverse and complementary family, and likely share both overlapping and independent functions in NLRP3 inflammasome activation.',\n",
        "       'Acute myocardial infarction (AMI) is one of the leading causes of morbidity worldwide. Myocardial reperfusion is known as an effective therapeutic choice against AMI. However, reperfusion of blood flow induces ischemia/reperfusion (I/R) injury through different complex processes including ion accumulation, disruption of mitochondrial membrane potential, the formation of reactive oxygen species, and so forth. One of the processes that gets activated in response to I/R injury is autophagy. Indeed, autophagy acts as a \"double-edged sword\" in the pathology of myocardial I/R injury and there is a controversy about autophagy being beneficial or detrimental. On the basis of the autophagy effect and regulation on myocardial I/R injury, many studies targeted it as a therapeutic strategy. In this review, we discuss the role of autophagy in I/R injury and its targeting as a therapeutic strategy.',\n",
        "       'Alpha7 nicotinic acetylcholine receptor (α7nAChR) has been previously reported to play an alleviative role in myocardial infarction (MI). In this study, we investigated its specific mechanism. α7nAChR-/- mice and its control (α7nAChR+/+) were used for the study of α7nAChR. Left anterior descending coronary artery occlusion was conducted for the creation of mice MI model and lipopolysaccharide (LPS) was used as inflammatory stressor in murine peritoneal macrophages. Triphenyltetrazolium chloride (TTC) staining and echocardiography was used for the detection of infarct size and cardiac function, respectively. Western blot was conducted for the testing of autophagy-related proteins and enzyme-linked immunosorbent assay (ELISA) and real-time polymerase chain reaction (RT-PCR) was used for the testing of proinflammatory cytokines. Rapamycin was used for the induction of autophagy through inhibiting mammalian target of rapamycin (mTOR)-related signaling. We found that knocking out α7nAChR enhanced the cardiac infarct size and damaged cardiac function in MI. α7nAChR deficiency increased the levels of several proinflammatory cytokines in serum and spleen from MI mice as well as murine macrophages under inflammatory stress. α7nAChR deletion decreased the level of autophagy in spleen from MI mice and macrophages under inflammatory stress. Rapamycin alleviated the cardiac function and systemic inflammatory reaction in MI mice as well as inflammatory reaction in macrophages under inflammatory stress, which was attenuated by knocking out α7nAChR. Our current study investigated the mechanism of α7nAChR-mediated cardio-protective and anti-inflammatory effect related to mTOR-related autophagy, which might provide a novel insight in the treatment of MI.',\n",
        "       'All-trans-retinoic acid (ATRA) is a potent inducer of cellular differentiation, growth arrest, and apoptosis as well as a front-line therapy for acute promyelocytic leukemia (APL). The present study provides evidence that induction of autophagy is required for ATRA to induce differentiation of APL (NB4) cells into granulocytes. ATRA treatment causes ~12-fold increase in the number of acidic vesicular organelles and induces marked up-regulation of LC3-II, autophagy-related 5 (ATG5), and Beclin-1. Transmission electron microscopy (TEM) revealed a decrease in mitochondria and ATRA-induced differentiation. To determine the role of autophagy in the differentiation of APL, we knocked down ATG5 in NB4 cells to find that ATRA-induced differentiation is significantly inhibited during ATG5 knock down in cells, indicating the role of autophagy in differentiation of APL. Further experiments revealed restriction of autophagy during ATRA-induced differentiation and inhibition of tissue transglutaminase 2 (TG2) and phospho-focal adhesion kinase (p-FAK), which are known to have roles in differentiation and cell attachment. We examined expression of Beclin-1 and B-cell lymphoma-2 (Bcl-2) and levels of mechanistic target of rapamycin (mTOR) after ATRA treatment. ATRA inhibits Bcl-2, up-regulates Beclin-1 expression, and reduces induction of mTOR activation/phosphorylation in NB4 cells. Our results reveal that autophagy has roles in regulation of differentiation, mitochondria elimination, and cell attachment during ATRA-induced APL differentiation.',\n",
        "       'The Parkinson disease-associated proteins PINK1 and PRKN coordinate the ubiquitination of mitochondrial outer membrane proteins to tag them either for degradation or for autophagic clearance of the mitochondrion. The proteins include the mitochondrial trafficking proteins RHOT1 and RHOT2, the removal of which may be required for immobilization of mitochondria prior to mitophagy. Here, we demonstrate that RHOT1 and RHOT2 are not only substrates for PINK1-PRKN-dependent degradation but that they also play an active role in the process of mitophagy. RHOT1, and likely also RHOT2, may act as a docking site for inactive PRKN prior to mitochondrial damage, thus keeping PRKN in close proximity to its potential substrates and thereby facilitating mitophagy. We also show that RHOT1 functions as a calcium-sensing docking site for PRKN, and we suggest that calcium binding to RHOT is a key step in the calcium-dependent activation of mitophagy machinery.',\n",
        "       'Aberrant CTNNB1 signaling is one of the fundamental processes in cancers, especially colorectal cancer (CRC). Here, we reported that TRAF6, an E3 ubiquitin ligase important for inflammatory signaling, inhibited epithelial-mesenchymal transition (EMT) and CRC metastasis through driving a selective autophagic CTNNB1 degradation machinery. Mechanistically, TRAF6 interacted with MAP1LC3B/LC3B through its LC3-interacting region \\'YxxL\\' and catalyzed K63-linked polyubiquitination of LC3B. The K63-linked ubiquitination of LC3B promoted the formation of the LC3B-ATG7 complex and was critical to the subsequent recognition of CTNNB1 by LC3B for the selective autophagic degradation. However, TRAF6 was phosphorylated at Thr266 by GSK3B in most clinical CRC, which triggered K48-linked polyubiquitination and degradation of TRAF6 and thereby attenuated its inhibitory activity towards the autophagy-dependent CTNNB1 signaling. Clinically, decreased expression of TRAF6 was associated with elevated GSK3B protein levels and activity and reduced overall survival in CRC patients. Pharmacological inhibition of GSK3B activity stabilized the TRAF6 protein, promoted CTNNB1 degradation, and effectively suppressed EMT and CRC metastasis. Thus, targeting TRAF6 and its pathway may be meaningful for treating advanced CRC.',\n",
        "       'There is growing evidence in the literature for unconventional roles of autophagy-related (ATG) proteins, outside of their function in canonical autophagy. Here we discuss our recent study that revealed a novel ATG16L1-dependent pathway that promotes plasma membrane repair upon bacterial pore-forming toxin damage. Disruption of the ATG16L1-dependent pathway leads to an accumulation of cholesterol in lysosomes, which affects lysosomal exocytosis required for efficient membrane repair. Our study provides insights into the role of ATG16L1 in cholesterol homeostasis and plasma membrane integrity.',\n",
        "       'High-throughput screening identified 5 chemical analogs (termed the WX8-family) that disrupted 3 events in lysosome homeostasis: (1) lysosome fission via tubulation without preventing homotypic lysosome fusion; (2) trafficking of molecules into lysosomes without altering lysosomal acidity, and (3) heterotypic fusion between lysosomes and autophagosomes. Remarkably, these compounds did not prevent homotypic fusion between lysosomes, despite the fact that homotypic fusion required some of the same machinery essential for heterotypic fusion. These effects varied 400-fold among WX8-family members, were time and concentration dependent, reversible, and resulted primarily from their ability to bind specifically to the PIKFYVE phosphoinositide kinase. The ability of the WX8-family to prevent lysosomes from participating in macroautophagy/autophagy suggested they have therapeutic potential in treating autophagy-dependent diseases. In fact, the most potent family member (WX8) was 100-times more lethal to \\'autophagy-addicted\\' melanoma A375 cells than the lysosomal inhibitors hydroxychloroquine and chloroquine. In contrast, cells that were insensitive to hydroxychloroquine and chloroquine were also insensitive to WX8. Therefore, the WX8-family of PIKFYVE inhibitors provides a basis for developing drugs that could selectively kill autophagy-dependent cancer cells, as well as increasing the effectiveness of established anti-cancer therapies through combinatorial treatments.',\n",
        "       'Mutations in the g-secretase complex are strongly associated with familial Alzheimer disease. Both proteolytic and non-proteolytic functions for the γ-secretase complex have been previously described in mammalian model organisms, but their relative contributions to disease pathology remain unclear. Here, we dissect the roles of orthologs of the γ-secretase components in the model system Dictyostelium, focusing on endocytosis, lysosomal activity and autophagy. In this model, we show that the orthologs of PSEN (psenA and psenB), Ncstn (nicastrin) and Aph-1 (gamma-secretase subunit Aph-1), are necessary for optimal fluid-phase uptake by macropinocytosis and in multicellular development under basic condition. Disruption of either psenA/B or Aph-1 proteins also leads disrupted phagosomal proteolysis as well as decreased autophagosomal acidification and autophagic flux. This indicates a general defect in lysosomal trafficking and degradation, which we show leads to the accumulation of ubiquitinated protein aggregates in cells lacking psenA/B and Aph-1 proteins. Importantly, we find that all the endocytic defects observed in Dictyostelium PSEN ortholog mutants can be fully rescued by proteolytically inactive Dictyostelium psenB and human PSEN1 proteins. Our data therefore demonstrates an evolutionarily conserved non-proteolytic role for presenilin, and γ-secretase component orthologs, in maintaining Dictyostelium lysosomal trafficking and autophagy.',\n",
        "       'The EPG5 protein is a RAB7A effector involved in fusion specificity between autophagosomes and late endosomes or lysosomes during macroautophagy/autophagy. Mutations in the human EPG5 gene cause a rare and severe multisystem disorder called Vici syndrome. In this work, we show that zebrafish epg5-/- mutants from both heterozygous and incrossed homozygous matings are viable and can develop to the age of sexual maturity without conspicuous defects in external appearance. In agreement with the dysfunctional autophagy of Vici syndrome, western blot revealed higher levels of the Lc3-II autophagy marker in epg5-/- mutants with respect to wild type controls. Moreover, starvation elicited higher accumulation of Lc3-II in epg5-/- than in wild type larvae, together with a significant reduction of skeletal muscle birefringence. Accordingly, muscle ultrastructural analysis revealed accumulation of degradation-defective autolysosomes in starved epg5-/- mutants. By aging, epg5-/- mutants showed impaired motility and muscle thinning, together with accumulation of non-degradative autophagic vacuoles. Furthermore, epg5-/- adults displayed morphological alterations in gonads and heart. These findings point at the zebrafish epg5 mutant as a valuable model for EPG5-related disorders, thus providing a new tool for dissecting the contribution of EPG5 on the onset and progression of Vici syndrome as well as for the screening of autophagy-stimulating drugs.',\n",
        "       'The formation of protein aggregates is linked to several diseases collectively called proteinopathies. The mechanisms and the molecular players that control the turnover of protein aggregates are not well defined. We recently showed that TRIM16 acts as a key regulatory protein to control the biogenesis and degradation of protein aggregates. We show that TRIM16 interacts with, enhances K63-linked ubiquitination of, and stabilizes NFE2L2/NRF2 leading to its activation. The activated NFE2L2 upregulates the SQSTM1/p62 and ubiquitin pathway proteins, which interact with and ubiquitinate the misfolded proteins resulting in protein aggregate formation. TRIM16 is physically present around the protein aggregates and acts as a scaffold protein to recruit SQSTM1 and macroautophagy/autophagy initiation proteins for sequestration of the protein aggregates within autophagosomes, leading to their degradation. Hence, TRIM16 utilizes a two-pronged approach to safely dispose of the stress-induced misfolded proteins and protein aggregates, and protect cells from oxidative and proteotoxic stresses. This study could provide a framework for understanding the mechanisms of protein aggregate formation in neurodegeneration. The enhancement of TRIM16 activity could be a beneficial therapeutic approach in proteinopathies. On the flip side, cancer cells appear to hijack this machinery for their survival under stress conditions; hence, depleting TRIM16 could be a beneficial therapeutic strategy for treating cancer.',\n",
        "       'The correlation of mycobactericidal property of macrophages with its potential to deliver bacteria to hydrolytic lysosomes, augmented with Ubiquitin derived peptides (Ub2) activates the process of autophagy. This leads to the formation of phagolysosomes supported by factor involving increased cationic charges which regulates the acidic pH causing elimination of Mycobacterium. To better understand this interaction of cationic rich ubiquitin-derived peptides with mycobacteria and to identify putative mycobacterial intrinsic resistance mechanisms for phagolysosome formation, we have synthesized a new series of Ub2 peptides, wherein the Gly residues are replaced with azaGly with the aim to improve metabolic stability. In addition to that a new methodology is reported for the synthesis of heteroaryltethered peptides using azaGly as a linker. We have demonstrated that positive puncta (directly proportional to the acidification of lysosome) in cytosol was significantly increased after 6-hours on the treatment of macrophage with Ub2 peptide derivatives (1, 6, 10 and 11) causing the higher intensity of lysosome observed through Lysotracker red dye. The CD Spectral studies are carried out in water and water:TFE mixture and demonstrated that the Ub2 peptides having helix forming tendency in presence of TFE. The recognizable intracellular killing of Mycobacterium tuberculosis by Ub2 peptides provides a new approach for host directed therapy. This article is protected by copyright. All rights reserved.',\n",
        "       'Brucellosis is the most common zoonotic disease that caused by intracellular parasitic bacteria Brucella. The survival and replication of Brucella in the host depend on the type IV secretion system (T4SS). The T4SS system of Brucella has many components and secreted proteins. But the mechanism helped Brucella to evade the host defense is still not clear. The objective of the present study was to investigate the effects of VceA on autophagy and apoptosis in Brucella-infected embryonic trophoblast cells. We constructed the VceA mutant strain (2308ΔVceA) and complementary strain (2308ΔVceA-C) of Brucella abortus 2308 (S2308). The human trophoblast cells (HPT-8 cells) and mice were infected by S2308, 2308ΔVceA and 2308ΔVceA-C. The cell autophagy and apoptosis were detected. The Atg5, LC3-II and Bcl-2 mRNA expression were significantly increased in 2308ΔVceA group than the S2308 group, and mRNA expression of P62 and Caspase-3 were significantly decreased than the S2308 group. Western blotting, qPCR and flow cytometry analysis showed that 2308ΔVceA promoted autophagy and inhibited apoptosis. Mouse immunohistochemistry experiments showed that P62 protein was scattered coloring and Cytochrome C protein was scarcely in 2308ΔVceA group at the myometrium. These results indicated that 2308ΔVceA promoted autophagy and inhibited apoptosis in HPT-8 cells during Brucella infection.'\n",
        "       ]\n",
        "\n",
        "# create the tokenizer\n",
        "t = Tokenizer()\n",
        "# fit the tokenizer on the documents\n",
        "t.fit_on_texts(docs)\n",
        "# summarize what was learned\n",
        "print(t.word_counts)\n",
        "print(t.document_count)\n",
        "print(t.word_index)\n",
        "print(t.word_docs)\n",
        "# integer encode documents\n",
        "encoded_docs = t.texts_to_matrix(docs, mode='binary')\n",
        "print(encoded_docs)\n",
        "testing_labels = asarray([0,0,0,0,0,0,0,0,0,0,0,1,1,1,1,1,1,1,1,1,1,1,1,1,1])\n",
        "\n",
        "max_length = 10000\n",
        "padded_docs = pad_sequences(encoded_docs, maxlen=max_length, padding='post')"
      ],
      "execution_count": 0,
      "outputs": []
    },
    {
      "metadata": {
        "id": "TlYBtCXYOpPV",
        "colab_type": "code",
        "colab": {}
      },
      "cell_type": "code",
      "source": [
        "num_classes = max(testing_labels) + 1\n",
        "print('# of Classes: {}'.format(num_classes))"
      ],
      "execution_count": 0,
      "outputs": []
    },
    {
      "metadata": {
        "id": "Ld4BWfssOvKd",
        "colab_type": "code",
        "colab": {}
      },
      "cell_type": "code",
      "source": [
        "from keras.utils import to_categorical\n",
        "y_binary = to_categorical(testing_labels)\n",
        "y_binary"
      ],
      "execution_count": 0,
      "outputs": []
    },
    {
      "metadata": {
        "id": "Rd2VH3KvZwFH",
        "colab_type": "code",
        "colab": {}
      },
      "cell_type": "code",
      "source": [
        "\n",
        "model1 = Sequential()\n",
        "model1.add(Dense(512, input_shape=(1475,)))\n",
        "model1.add(Activation('relu'))\n",
        "model1.add(Dropout(0.5))\n",
        "model1.add(Dense(2))\n",
        "model1.add(Activation('softmax'))\n",
        "\n",
        "\n",
        "model1.compile(loss='categorical_crossentropy', optimizer='adam', metrics=['accuracy'])\n",
        "print(model1.metrics_names)\n",
        "print(model1.summary())"
      ],
      "execution_count": 0,
      "outputs": []
    },
    {
      "metadata": {
        "id": "9_bbjcVAZwHZ",
        "colab_type": "code",
        "colab": {}
      },
      "cell_type": "code",
      "source": [
        "batch_size = 20\n",
        "epochs = 3\n",
        "\n",
        "history = model1.fit(encoded_docs, y_binary, batch_size=batch_size, epochs=epochs, verbose=1, validation_split=0.1)\n",
        "# score = model.evaluate(x_test, y_test, batch_size=batch_size, verbose=1)\n",
        "# print('Test loss:', score[0])\n",
        "# print('Test accuracy:', score[1])"
      ],
      "execution_count": 0,
      "outputs": []
    },
    {
      "metadata": {
        "id": "CIclXc6SZwJ1",
        "colab_type": "code",
        "colab": {}
      },
      "cell_type": "code",
      "source": [
        "y_train.shape"
      ],
      "execution_count": 0,
      "outputs": []
    },
    {
      "metadata": {
        "id": "HW1XVs45ZwL7",
        "colab_type": "code",
        "colab": {}
      },
      "cell_type": "code",
      "source": [
        ""
      ],
      "execution_count": 0,
      "outputs": []
    },
    {
      "metadata": {
        "id": "LFrbnD7DZwQf",
        "colab_type": "code",
        "colab": {}
      },
      "cell_type": "code",
      "source": [
        ""
      ],
      "execution_count": 0,
      "outputs": []
    }
  ]
}